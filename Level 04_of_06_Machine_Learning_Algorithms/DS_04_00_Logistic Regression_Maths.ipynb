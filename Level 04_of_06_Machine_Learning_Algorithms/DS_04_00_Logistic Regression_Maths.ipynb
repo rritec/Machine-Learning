{
 "cells": [
  {
   "cell_type": "markdown",
   "metadata": {},
   "source": [
    "# Logistic `Regression Maths`\n",
    "-----\n",
    "1.\tLogistic regression, despite its name, is a linear model for `classification` rather than regression.\n",
    "2.\tLogistic regression is also known in the literature as `logit regression`, `maximum-entropy classification (MaxEnt)` or the `log-linear classifier`. \n",
    "3.\tIn this model, the probabilities describing the possible outcomes of a single trial are modelled using a `logistic function`.\n",
    "4.\tA logistic function or logistic curve is a common \"S\" shape (sigmoid curve), with equation\n",
    "\n",
    "    <b>$f(x) =\\frac {L}{1+e^{-k(x-x_{0})}}$</b>\n",
    "    ----\n",
    "    \n",
    "    ![image](https://github.com/rritec/datahexa/blob/master/images/ml/logreg.png?raw=true)\n",
    "    \n",
    "    <b>$f(x) =\\frac {1}{1+e^{-x}}$</b>\n",
    "    \n",
    "    \n",
    "5. Maths behind it, just walk through it. If you are not understand do not be panic\n",
    "\n",
    "    a.\thttps://en.wikipedia.org/wiki/Logistic_regression\n",
    "    \n",
    "    b.\thttps://en.wikipedia.org/wiki/Logistic_function\n",
    "    \n",
    "    c.  http://scikit-learn.org/dev/modules/linear_model.html#logistic-regression\n",
    "\n",
    "\n"
   ]
  },
  {
   "cell_type": "markdown",
   "metadata": {},
   "source": [
    "* Linear Regression Equation\n",
    "\n",
    "    $y = \\sum_{i=0}^N {b_{i}x_{i}} $\n",
    "\n",
    "    where $x_{0} =1$"
   ]
  },
  {
   "cell_type": "markdown",
   "metadata": {},
   "source": [
    "* Logistic Regression Equation\n",
    "<b>$f(x) =\\frac {1}{1+e^{-\\sum_{i=0}^N {b_{i}x_{i}}}}$</b>\n",
    "\n",
    "    where $x_{0} =1$"
   ]
  },
  {
   "cell_type": "code",
   "execution_count": null,
   "metadata": {},
   "outputs": [],
   "source": []
  }
 ],
 "metadata": {
  "kernelspec": {
   "display_name": "Python 3",
   "language": "python",
   "name": "python3"
  },
  "language_info": {
   "codemirror_mode": {
    "name": "ipython",
    "version": 3
   },
   "file_extension": ".py",
   "mimetype": "text/x-python",
   "name": "python",
   "nbconvert_exporter": "python",
   "pygments_lexer": "ipython3",
   "version": "3.6.9"
  }
 },
 "nbformat": 4,
 "nbformat_minor": 4
}
